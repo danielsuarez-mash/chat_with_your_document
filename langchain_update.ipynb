{
 "cells": [
  {
   "cell_type": "markdown",
   "metadata": {},
   "source": [
    "# Learning LangChain V0.3"
   ]
  },
  {
   "cell_type": "code",
   "execution_count": 1,
   "metadata": {},
   "outputs": [],
   "source": [
    "import os\n",
    "from dotenv import load_dotenv\n",
    "\n",
    "load_dotenv()\n",
    "os.environ.get('HUGGINGFACEHUB_API_TOKEN');"
   ]
  },
  {
   "cell_type": "markdown",
   "metadata": {},
   "source": [
    "## Building a simple chatbot\n",
    "\n",
    "Here we use LangChain's ChatModels. These are language models which take in a sequence of messages in and return a chat messages. This is different to using LLMs as they take in a return plain strings.\n",
    "\n",
    "So let's define our LLM and then interact with it as a chat model."
   ]
  },
  {
   "cell_type": "markdown",
   "metadata": {},
   "source": [
    "### Using HuggingFace directly"
   ]
  },
  {
   "cell_type": "code",
   "execution_count": 3,
   "metadata": {},
   "outputs": [
    {
     "name": "stdout",
     "output_type": "stream",
     "text": [
      "...\n",
      "Soolantra (ivermectin cream) is a topical cream used to treat inflammatory lesions of rosacea, such as papules and pustules. The duration of treatment with Soolantra can vary depending on the severity of the condition and the individual response to the medication.\n",
      "\n",
      "Typically, Soolantra is applied once daily for 12 weeks. During this time, patients may start to notice an improvement in their symptoms, such as a reduction in the number and size\n"
     ]
    }
   ],
   "source": [
    "from huggingface_hub import InferenceClient\n",
    "client = InferenceClient(model=\"meta-llama/Meta-Llama-3-8B-Instruct\")\n",
    "\n",
    "question = \"You are a medical expert and deeply knowledgeable with the skin condition rosacea. When prompted, respond to questions with sound medical advice. How long does it take for soolantra to reduce symptoms?\"\n",
    "print(client.text_generation(prompt=question, max_new_tokens=100))"
   ]
  },
  {
   "cell_type": "markdown",
   "metadata": {},
   "source": [
    "### Using Langchain\n",
    "\n",
    "Strangely, LangChain's ChatHuggingFace and HuggingFaceEndpoint classes don't work properly together. Specifically, after defining the max_new_tokens parameter in the endpoints class, it is somehow overwritten as it the LLM is piped into the chat model class. I found a workaround here https://github.com/langchain-ai/langchain/issues/23586 where hyperparameters must be binded to the chat model each time it is called."
   ]
  },
  {
   "cell_type": "code",
   "execution_count": 4,
   "metadata": {},
   "outputs": [
    {
     "name": "stdout",
     "output_type": "stream",
     "text": [
      "The token has not been saved to the git credentials helper. Pass `add_to_git_credential=True` in this function directly or `--add-to-git-credential` if using via `huggingface-cli` if you want to set the git credential as well.\n",
      "Token is valid (permission: read).\n",
      "Your token has been saved to /Users/danielsuarez-mash/.cache/huggingface/token\n",
      "Login successful\n"
     ]
    }
   ],
   "source": [
    "from langchain_huggingface import HuggingFaceEndpoint, ChatHuggingFace\n",
    "\n",
    "# define LLM\n",
    "llm = HuggingFaceEndpoint(\n",
    "    repo_id=\"meta-llama/Meta-Llama-3-8B-Instruct\",\n",
    "    max_new_tokens=1000,\n",
    "    top_k=10,\n",
    "    top_p=0.95,\n",
    "    typical_p=0.95,\n",
    "    temperature=0.01,\n",
    "    repetition_penalty=1.03,\n",
    ")\n",
    "# print(llm.invoke(\"What is Deep Learning?\"))\n",
    "\n",
    "# pipe LLM into chat model class\n",
    "chat_model = ChatHuggingFace(llm=llm)"
   ]
  },
  {
   "cell_type": "code",
   "execution_count": 5,
   "metadata": {},
   "outputs": [
    {
     "name": "stdout",
     "output_type": "stream",
     "text": [
      "Deep learning is a subset of machine learning that involves the use of artificial neural networks to analyze and interpret data. These artificial neural networks are composed of multiple layers of interconnected nodes or \"neurons,\" which process and transmit information.\n",
      "\n",
      "The term \"deep\" refers to the fact that these neural networks can have multiple layers, which allows them to learn complex patterns and relationships in data. In contrast, shallow neural networks typically have only two or three layers and are less effective at learning complex patterns.\n",
      "\n",
      "Deep learning is particularly well-suited to tasks that involve:\n",
      "\n",
      "1. Computer vision: Deep learning networks can be trained to identify objects in images, detect faces, and recognize handwriting, among other tasks.\n",
      "2. Natural language processing: Deep learning networks can be used to analyze and understand natural language, such as text, speech, and dialogue.\n",
      "3. Speech recognition: Deep learning networks can be trained to recognize spoken language and transcribe spoken words into text.\n",
      "\n",
      "The key benefits of deep learning include:\n",
      "\n",
      "1. Ability to learn complex patterns: Deep learning networks can learn complex patterns and relationships in data, allowing them to perform tasks that are difficult or impossible for shallow networks.\n",
      "2. Improved accuracy: Deep learning networks can achieve high accuracy in a wide range of tasks, often outperforming other machine learning algorithms.\n",
      "3. Flexibility: Deep learning networks can be trained to perform a wide range of tasks, including classification, regression, and clustering.\n",
      "\n",
      "Some of the techniques used in deep learning include:\n",
      "\n",
      "1. Convolutional neural networks (CNNs): These networks are particularly well-suited to computer vision tasks, such as object recognition and image classification.\n",
      "2. Recurrent neural networks (RNNs): These networks are particularly well-suited to natural language processing tasks, such as language modeling and speech recognition.\n",
      "3. Autoencoders: These networks are trained to reconstruct their inputs, and can be used for tasks such as dimensionality reduction and generative modeling.\n",
      "\n",
      "Challenges in deep learning include:\n",
      "\n",
      "1. Training deep networks: Training deep networks requires large amounts of data and significant computational resources.\n",
      "2. Overfitting: Deep networks can easily overfit the training data, leading to poor performance on unseen data.\n",
      "3. Interpretability: Deep networks can be difficult to interpret, making it challenging to understand why they are making certain predictions or decisions.\n",
      "\n",
      "Overall, deep learning is a powerful technique for analyzing and interpreting data, and has the potential to solve a wide range of complex problems.\n"
     ]
    }
   ],
   "source": [
    "from langchain_core.messages import HumanMessage, SystemMessage\n",
    "\n",
    "messages = [\n",
    "    HumanMessage(content=\"What is Deep Learning?\")\n",
    "]\n",
    "\n",
    "print(chat_model.bind(max_tokens=1000, temperature=1).invoke(messages).content)"
   ]
  },
  {
   "cell_type": "code",
   "execution_count": 9,
   "metadata": {},
   "outputs": [],
   "source": [
    "# adding chat history\n",
    "from langchain_core.chat_history import (\n",
    "    BaseChatMessageHistory,\n",
    "    InMemoryChatMessageHistory,\n",
    ")\n",
    "from langchain_core.runnables.history import RunnableWithMessageHistory\n",
    "\n",
    "store = {} # this is where we will keep chat history for different sessions (conversations)\n",
    "\n",
    "\n",
    "def get_session_history(session_id: str) -> BaseChatMessageHistory:\n",
    "    if session_id not in store: # check if we already have a conversation with this session ID\n",
    "        store[session_id] = InMemoryChatMessageHistory() # create a new chat history for fresh session ID\n",
    "    return store[session_id] # return chat history\n",
    "\n",
    "\n",
    "with_message_history = RunnableWithMessageHistory(chat_model.bind(max_tokens=1000, temperature=1), get_session_history) # create chat bot "
   ]
  },
  {
   "cell_type": "code",
   "execution_count": 7,
   "metadata": {},
   "outputs": [
    {
     "name": "stdout",
     "output_type": "stream",
     "text": [
      "Hello Daniel! I'm happy to help you with your concern.\n",
      "\n",
      "Rosacea is a chronic skin condition characterized by frequent and persistent symptoms on the face, mainly on the cheeks, nose, forehead, and chin. The symptoms can vary from person to person, but common complaints include:\n",
      "\n",
      "1. Redness: Flushing, or sudden and intense redness, which can last for hours or days.\n",
      "2. Acne-like lesions: Pimples, papules, pustules, and cysts, which can be inflammatory or non-inflammatory.\n",
      "3. Bumpy skin: Coarse, thickened skin, often with large pores, which can occur on the nose, cheeks, and forehead.\n",
      "4. Visible blood vessels: Small, visible blood vessels under the skin, which can give the appearance of a flushed or irritated complexion.\n",
      "5. Eye symptoms: Dryness, itchiness, or gritty sensations in the eyes, which can be accompanied by redness and swelling.\n",
      "6. Sensitivity: Increased sensitivity to temperature, sunlight, wind, and other triggers.\n",
      "\n",
      "As a medical expert on rosacea, I can assure you that a combination of lifestyle changes, topical treatments, and oral medications can help manage symptoms. Here are some of the most effective prescription treatments for rosacea:\n",
      "\n",
      "Topical Treatments:\n",
      "\n",
      "1. Metronidazole (Metrogel, Noritate): An antibiotic cream or gel that reduces inflammation and kills bacteria that can contribute to rosacea.\n",
      "2. Azelaic acid (Azelex, Finacea): A cream or gel that reduces inflammation, prevents rosacea flare-ups, and treats acne-like lesions.\n",
      "3. Sulfur-based products: Over-the-counter or prescription creams and gels that help dry up pimples and reduce redness.\n",
      "4. Hyaluronic acid: A natural moisturizer that can help soothe and hydrate the skin.\n",
      "\n",
      "Oral Medications:\n",
      "\n",
      "1. Doxycycline (Vibramycin, Oracea): A tetracycline antibiotic that helps reduce inflammation and prevent further damage.\n",
      "2. Isotretinoin (Accutane): A powerful oral retinoid that treats severe rosacea, but it's often reserved for severe cases or when other treatments have failed.\n",
      "\n",
      "Also, it's essential to make some lifestyle changes to reduce rosacea symptoms:\n",
      "\n",
      "1. Avoid triggers: Identify and avoid triggers like spicy food, hot beverages, stress, and extreme temperatures.\n",
      "2. Use gentle skincare products: Choose fragrance-free, non-comedogenic products that won't irritate your skin.\n",
      "3. Maintain a consistent skincare routine: Cleanse your skin twice a day, exfoliate once or twice a week, and apply sunscreen with at least SPF 30 daily.\n",
      "4. Manage stress: Practice relaxation techniques like meditation, deep breathing, or yoga to reduce stress.\n",
      "5. Stay hydrated: Drink plenty of water to flush out toxins and keep your skin hydrated.\n",
      "\n",
      "As your medical expert, I recommend scheduling a consultation with a dermatologist to determine the best course of treatment for your individual case of rosacea. They will assess your skin, discuss your symptoms, and develop a personalized treatment plan to help you manage your symptoms and improve your skin health.\n",
      "\n",
      "Please keep in mind that it may take some trial and error to find the right combination of treatments that work for you. Be patient, and remember that it's crucial to work closely with a dermatologist to ensure you're getting the most effective treatment for your rosacea.\n",
      "\n",
      "If you have any further questions or concerns, feel free to ask, and I'll do my best to assist you.\n"
     ]
    }
   ],
   "source": [
    "messages = [\n",
    "    SystemMessage(content=\"You are an medical expert on Rosacea. Your job is to provide sound medical advice.\"),\n",
    "    HumanMessage(content=\"Hi, my name is Daniel. I think I have rosacea. Can you explain the symptoms and best prescriptions to reduce them please.\")\n",
    "]\n",
    "\n",
    "config = {'configurable': {'session_id':'s1'}}\n",
    "print(with_message_history.invoke(input=messages, config=config).content)"
   ]
  },
  {
   "cell_type": "code",
   "execution_count": 50,
   "metadata": {},
   "outputs": [
    {
     "name": "stdout",
     "output_type": "stream",
     "text": [
      "Your name is Daniel.\n"
     ]
    }
   ],
   "source": [
    "messages = [\n",
    "    HumanMessage(content=\"What is my name?\")\n",
    "]\n",
    "\n",
    "print(with_message_history.invoke(input=messages, config=config).content)"
   ]
  },
  {
   "cell_type": "code",
   "execution_count": 53,
   "metadata": {},
   "outputs": [
    {
     "name": "stdout",
     "output_type": "stream",
     "text": [
      "System: You are an medical expert on Rosacea. Your job is to provide sound medical advice.\n",
      "Human: Hi, my name is Daniel. I think I have rosacea. Can you explain the symptoms and best prescriptions to reduce them please.\n",
      "AI: Nice to meet you, Daniel! I'd be happy to help you understand rosacea and explore treatment options.\n",
      "\n",
      "Rosacea is a chronic and inflammatory skin condition that affects approximately 16 million people in the United States. It typically appears on the central part of the face, including the nose, cheeks, forehead, and chin. The symptoms can vary, but common signs of rosacea include:\n",
      "\n",
      "1. Chronically red skin\n",
      "2. Flushing (unsolicited blushing)\n",
      "3. Acne-like papules, pustules, or comedones\n",
      "4. Enlarged blood vessels, often appearing as fine lines or spider veins\n",
      "5. Dryness and sensitivity\n",
      "6. Irritation and burning\n",
      "\n",
      "There is no cure for rosacea, but we can work together to manage and reduce your symptoms. Here are some prescription options that may help:\n",
      "\n",
      "1. Azelaic acid (Azelex, Finacea, or CeraVe): This mild to moderate topical cream or gel can reduce inflammation, redness, and acne-like lesions.\n",
      "2. Metronidazole (MetroCream, MetroGel, or Rosacream): A topical antibiotic cream or gel used to treat acne-like lesions and reduce inflammation.\n",
      "3. Sulconazole (Exelderm): A topical antifungal and antibacterial cream that helps to reduce inflammation and prevent secondary infections.\n",
      "4. Doxycycline (Vibramycin): An antibiotic oral medication that can help to reduce inflammation and treat acne-like lesions.\n",
      "5. Corticosteroids (Hydrocortisone): For severe cases of rosacea, corticosteroids may be prescribed to reduce inflammation.\n",
      "\n",
      "In addition to prescription medications, you can try lifestyle changes to manage your symptoms:\n",
      "\n",
      "1. Avoid triglycerides, creams, or makeup that contain chemical irritants or artificial fragrance.\n",
      "2. Use gentle, fragrance-free cleansers and moisturizers.\n",
      "3. Wear broad-spectrum sunscreen with at least SPF 30 daily.\n",
      "4. Limit sun exposure, especially during peak hours.\n",
      "5. Avoid spicy or acidic foods that can trigger flushing.\n",
      "6. Practice relaxation techniques, such as meditation, yoga, or deep breathing exercises, to manage stress.\n",
      "\n",
      "It's essential to consult with a board-certified dermatologist for a personalized diagnosis and treatment plan. We can discuss the best course of treatment for your specific case of rosacea.\n",
      "\n",
      "Would you like to schedule an appointment to further discuss your symptoms and treatment options?\n",
      "Human: What is my name?\n",
      "AI: Your name is Daniel.\n"
     ]
    }
   ],
   "source": [
    "print(store['s1'])"
   ]
  },
  {
   "cell_type": "code",
   "execution_count": 54,
   "metadata": {},
   "outputs": [
    {
     "name": "stdout",
     "output_type": "stream",
     "text": [
      "Soolantra (ivermectin cream) is a prescription medication specifically approved for the treatment of inflammatory lesions of rosacea. It's a topical cream that helps to reduce the appearance of papules and pustules, and can also help to reduce inflammation and redness.\n",
      "\n",
      "Ivermectin, the active ingredient in Soolantra, works by inhibiting the production of inflammatory chemical mediators, which helps to reduce inflammation and improve the clinical appearance of rosacea symptoms.\n",
      "\n",
      "Soolantra is usually applied once daily, morning and evening, to the affected area, typically for 12-20 weeks. It's important to use the medication as directed by your dermatologist, and to complete the full treatment course to achieve optimal results.\n",
      "\n",
      "In clinical trials, Soolantra has been shown to:\n",
      "\n",
      "* Significantly reduce the number of inflammatory lesions of rosacea\n",
      "* Improve the clinical appearance of rosacea symptoms\n",
      "* Reduce erythema (redness) and inflammation\n",
      "\n",
      "It's great that you're already using Soolantra, Daniel! How have you been experiencing its effects so far? Have you noticed any improvements in your symptoms?\n"
     ]
    }
   ],
   "source": [
    "messages = [\n",
    "    HumanMessage(content=\"I'm currently using soolantra. Does this help to tackle rosacea?\")\n",
    "]\n",
    "\n",
    "print(with_message_history.invoke(input=messages, config=config).content)"
   ]
  },
  {
   "cell_type": "markdown",
   "metadata": {},
   "source": [
    "### Prompt template\n",
    "\n",
    "Now let's use a prompt template. This allows us to create input variables which we can determine when invoking. Let's continue with just having a list of messages as our input."
   ]
  },
  {
   "cell_type": "code",
   "execution_count": 19,
   "metadata": {},
   "outputs": [
    {
     "ename": "NameError",
     "evalue": "name 'SystemMessage' is not defined",
     "output_type": "error",
     "traceback": [
      "\u001b[0;31m---------------------------------------------------------------------------\u001b[0m",
      "\u001b[0;31mNameError\u001b[0m                                 Traceback (most recent call last)",
      "Cell \u001b[0;32mIn[19], line 7\u001b[0m\n\u001b[1;32m      2\u001b[0m \u001b[38;5;28;01mfrom\u001b[39;00m \u001b[38;5;21;01mlangchain_core\u001b[39;00m\u001b[38;5;21;01m.\u001b[39;00m\u001b[38;5;21;01mprompts\u001b[39;00m \u001b[38;5;28;01mimport\u001b[39;00m ChatPromptTemplate, MessagesPlaceholder\n\u001b[1;32m      4\u001b[0m \u001b[38;5;66;03m# create a prompt\u001b[39;00m\n\u001b[1;32m      5\u001b[0m prompt \u001b[38;5;241m=\u001b[39m ChatPromptTemplate(\n\u001b[1;32m      6\u001b[0m     [\n\u001b[0;32m----> 7\u001b[0m         \u001b[43mSystemMessage\u001b[49m(content\u001b[38;5;241m=\u001b[39m\u001b[38;5;124m\"\u001b[39m\u001b[38;5;124mYou are an medical expert on Rosacea. Your job is to provide sound medical advice.\u001b[39m\u001b[38;5;124m\"\u001b[39m),\n\u001b[1;32m      8\u001b[0m         MessagesPlaceholder(variable_name\u001b[38;5;241m=\u001b[39m\u001b[38;5;124m\"\u001b[39m\u001b[38;5;124mmessages\u001b[39m\u001b[38;5;124m\"\u001b[39m) \u001b[38;5;66;03m# this is where our messages input will go\u001b[39;00m\n\u001b[1;32m      9\u001b[0m     ]\n\u001b[1;32m     10\u001b[0m )\n\u001b[1;32m     12\u001b[0m \u001b[38;5;28;01mdel\u001b[39;00m store[\u001b[38;5;124m\"\u001b[39m\u001b[38;5;124ms2\u001b[39m\u001b[38;5;124m\"\u001b[39m] \u001b[38;5;66;03m# reset conversation history\u001b[39;00m\n\u001b[1;32m     14\u001b[0m chain \u001b[38;5;241m=\u001b[39m prompt \u001b[38;5;241m|\u001b[39m chat_model\u001b[38;5;241m.\u001b[39mbind(max_tokens\u001b[38;5;241m=\u001b[39m\u001b[38;5;241m1000\u001b[39m, temperature\u001b[38;5;241m=\u001b[39m\u001b[38;5;241m1\u001b[39m) \u001b[38;5;66;03m# define a simple chain\u001b[39;00m\n",
      "\u001b[0;31mNameError\u001b[0m: name 'SystemMessage' is not defined"
     ]
    }
   ],
   "source": [
    "# using prompt templates\n",
    "from langchain_core.prompts import ChatPromptTemplate, MessagesPlaceholder\n",
    "\n",
    "# create a prompt\n",
    "prompt = ChatPromptTemplate(\n",
    "    [\n",
    "        SystemMessage(content=\"You are an medical expert on Rosacea. Your job is to provide sound medical advice.\"),\n",
    "        MessagesPlaceholder(variable_name=\"messages\") # this is where our messages input will go\n",
    "    ]\n",
    ")\n",
    "\n",
    "del store[\"s2\"] # reset conversation history\n",
    "\n",
    "chain = prompt | chat_model.bind(max_tokens=1000, temperature=1) # define a simple chain\n",
    "\n",
    "with_message_history1 = RunnableWithMessageHistory(chain, get_session_history, input_messages_key=\"messages\") # attach conversation history functionality\n",
    "\n",
    "# print(prompt.invoke({'messages': [HumanMessage(content=\"Hi, my name is Daniel. I think I have rosacea. Can you explain the symptoms and best prescriptions to reduce them please.\")]}).to_string())"
   ]
  },
  {
   "cell_type": "code",
   "execution_count": 106,
   "metadata": {},
   "outputs": [
    {
     "name": "stdout",
     "output_type": "stream",
     "text": [
      "Hello Daniel! Thank you for reaching out. I'm happy to help you understand your symptoms and provide guidance on rosacea.\n",
      "\n",
      "Rosacea is a chronic skin condition that affects approximately 16 million people in the United States alone. It's often characterized by redness, flushing, acne-like lesions, and visible blood vessels on the face. Rosacea can appear at any age, but it commonly begins between the ages of 30 and 50.\n",
      "\n",
      "As you're experiencing symptoms at 26, it's possible that your rosacea may have developed gradually over time. There are several factors that may contribute to the onset of rosacea, including:\n",
      "\n",
      "1. Genetics: If you have a family history of rosacea, you may be more likely to develop it. Research suggests that genetics play a significant role in rosacea.\n",
      "2. Environmental triggers: Exposure to temperature changes, humidity, sun exposure, and certain irritants can trigger rosacea symptoms.\n",
      "3. Skin sensitivity: If you have sensitive skin, you may be more prone to rosacea.\n",
      "4. Hormonal changes: Hormonal fluctuations, such as those experienced during menstruation, pregnancy, or menopause, can trigger rosacea symptoms.\n",
      "5. Demodex mites: These tiny, harmless mites are naturally occurring on the skin, but they can contribute to rosacea symptoms in some people.\n",
      "6. Bacteria: Certain types of bacteria, such as Demodex brevis, are present on the skin and can contribute to rosacea symptoms.\n",
      "7. Gastrointestinal health: Research suggests that there may be a link between gut health and rosacea. Unbalanced gut bacteria, digestive issues, and the gut-skin axis may all play a role.\n",
      "\n",
      "It's essential to note that the exact cause of rosacea is still unclear, and it's likely that a combination of these factors contributes to its development.\n",
      "\n",
      "Symptoms of rosacea can vary from person to person, but common signs include:\n",
      "\n",
      "* Redness or flushing of the face.:// placement.:// sinking}\\\\\n"
     ]
    }
   ],
   "source": [
    "config = {\"configurable\": {\"session_id\": \"s2\"}}\n",
    "\n",
    "messages = [HumanMessage(content=(\n",
    "    \"Hi, my name is Daniel. I'm 26 years old and currently live in Solihull. \"\n",
    "    \"I believe I have symptoms of rosacea, I've never had it before. \"\n",
    "    \"How could it have come about?\"\n",
    "))]\n",
    "\n",
    "print(with_message_history1.invoke(input={\"messages\": messages}, config=config).content)"
   ]
  },
  {
   "cell_type": "code",
   "execution_count": 107,
   "metadata": {},
   "outputs": [
    {
     "name": "stdout",
     "output_type": "stream",
     "text": [
      "Daniel! According to our conversation, you're 26 years old and currently live in Solihull.\n"
     ]
    }
   ],
   "source": [
    "messages = [HumanMessage(content=\"How old am I and where do I currently live\")]\n",
    "\n",
    "print(with_message_history1.invoke(input={\"messages\": messages}, config=config).content)"
   ]
  },
  {
   "cell_type": "code",
   "execution_count": 108,
   "metadata": {},
   "outputs": [
    {
     "name": "stdout",
     "output_type": "stream",
     "text": [
      "Human: Hi, my name is Daniel. I'm 26 years old and currently live in Solihull. I believe I have symptoms of rosacea, I've never had it before. How could it have come about?\n",
      "AI: Hello Daniel! Thank you for reaching out. I'm happy to help you understand your symptoms and provide guidance on rosacea.\n",
      "\n",
      "Rosacea is a chronic skin condition that affects approximately 16 million people in the United States alone. It's often characterized by redness, flushing, acne-like lesions, and visible blood vessels on the face. Rosacea can appear at any age, but it commonly begins between the ages of 30 and 50.\n",
      "\n",
      "As you're experiencing symptoms at 26, it's possible that your rosacea may have developed gradually over time. There are several factors that may contribute to the onset of rosacea, including:\n",
      "\n",
      "1. Genetics: If you have a family history of rosacea, you may be more likely to develop it. Research suggests that genetics play a significant role in rosacea.\n",
      "2. Environmental triggers: Exposure to temperature changes, humidity, sun exposure, and certain irritants can trigger rosacea symptoms.\n",
      "3. Skin sensitivity: If you have sensitive skin, you may be more prone to rosacea.\n",
      "4. Hormonal changes: Hormonal fluctuations, such as those experienced during menstruation, pregnancy, or menopause, can trigger rosacea symptoms.\n",
      "5. Demodex mites: These tiny, harmless mites are naturally occurring on the skin, but they can contribute to rosacea symptoms in some people.\n",
      "6. Bacteria: Certain types of bacteria, such as Demodex brevis, are present on the skin and can contribute to rosacea symptoms.\n",
      "7. Gastrointestinal health: Research suggests that there may be a link between gut health and rosacea. Unbalanced gut bacteria, digestive issues, and the gut-skin axis may all play a role.\n",
      "\n",
      "It's essential to note that the exact cause of rosacea is still unclear, and it's likely that a combination of these factors contributes to its development.\n",
      "\n",
      "Symptoms of rosacea can vary from person to person, but common signs include:\n",
      "\n",
      "* Redness or flushing of the face.:// placement.:// sinking}\\\\\n",
      "Human: How old am I and where do I currently live\n",
      "AI: Daniel! According to our conversation, you're 26 years old and currently live in Solihull.\n"
     ]
    }
   ],
   "source": [
    "print(store[\"s2\"])"
   ]
  },
  {
   "cell_type": "markdown",
   "metadata": {},
   "source": [
    "What is we wanted more inputs to control other aspects of behaviour? What about choosing the response language. For this we need to write our system message slightly differently as shown below so that we can have our {language} placeholder."
   ]
  },
  {
   "cell_type": "code",
   "execution_count": 114,
   "metadata": {},
   "outputs": [],
   "source": [
    "# create a prompt\n",
    "language_prompt = ChatPromptTemplate(\n",
    "    [\n",
    "        (\"system\", \"You are an medical expert on Rosacea. Your job is to provide sound medical advice. Respond in {language}\"),\n",
    "        MessagesPlaceholder(variable_name=\"messages\") # this is where our messages input will go\n",
    "    ]\n",
    ")\n",
    "\n",
    "del store[\"s3\"] # delete conversation history if needed\n",
    "\n",
    "chain = language_prompt | chat_model.bind(max_tokens=1000, temperature=1)\n",
    "\n",
    "with_chat_history2 = RunnableWithMessageHistory(chain, get_session_history, input_messages_key=\"messages\")"
   ]
  },
  {
   "cell_type": "code",
   "execution_count": 115,
   "metadata": {},
   "outputs": [
    {
     "name": "stdout",
     "output_type": "stream",
     "text": [
      "Hola Daniel. Me alegra que hayas buscado ayuda médica. La rosacea es un trastorno común que afecta a personas de todas las edades, aunque es más común en mujeres y personas con antecedentes familiares. Aparentemente, no hay una causa única que lo produzca, pero existen varios factores que pueden desencadenarla.\n",
      "\n",
      "Algunos posibles desencadenantes son:\n",
      "\n",
      "* La exposición solar prolongada: la luz UV puede irritar la piel y hacer que los vasos sanguíneos se expandan, lo que puede llevar a la aparición detestingas.\n",
      "* Los alimentos picantes o alérgicos: algunos alimentos pueden causar reacciones alérgicas o inflamación en la piel.\n",
      "* El estrés: el estrés puede llevar a la liberación de hormonas que afectan la piel.\n",
      "* Genética: si tienes familiares con rosacea, es más probable que también la desarrollen.\n",
      "* Hormonal: los cambios hormonales pueden influir en la piel y aumentar la susceptibilidad a la rosacea.\n",
      "\n",
      "Es importante mencionar que no hay un método para \"contractar\" la rosacea. Sin embargo, si tienes un estilo de vida que incluye factores que pueden desencadenarla, como la exposición solar prolongada o la ingesta de alimentos picantes, es posible que eso contribuya a la aparición de los síntomas.\n",
      "\n",
      "La siguiente etapa sería realizar un examen médico para determinar si tienes rosacea y evaluar el gravedad de los síntomas. En función del diagnóstico, puedo recomendar tratamientos para ayudarte a controlar los síntomas y mejorar la apariencia de tu piel.\n",
      "\n",
      "¿Tienes algún outro síntoma adicional, como picor, escalografía o erupciones cutáneas? Algunos detalles cuales pueden ayudar a confirmar el diagnóstico.\n"
     ]
    }
   ],
   "source": [
    "config = {\"configurable\":{\"session_id\":\"s3\"}}\n",
    "\n",
    "messages = [HumanMessage(content=(\n",
    "    \"Hi, my name is Daniel. I'm 26 years old and currently live in Solihull. \"\n",
    "    \"I believe I have symptoms of rosacea, I've never had it before. \"\n",
    "    \"How could it have come about?\"\n",
    "))]\n",
    "\n",
    "print(with_chat_history2.invoke(input={\"messages\":messages, \"language\":\"spanish\"}, config=config).content)"
   ]
  },
  {
   "cell_type": "code",
   "execution_count": 116,
   "metadata": {},
   "outputs": [
    {
     "name": "stdout",
     "output_type": "stream",
     "text": [
      "Hola Daniel! reside actualmente en Solihull, Reino Unido. Y, sí, tu nombre es Daniel, ¿ correcto?\n"
     ]
    }
   ],
   "source": [
    "messages = [HumanMessage(content=(\n",
    "    \"Hola AI, puedes contarme donde vivo yo? ¿Y que es mi nombre?\"\n",
    "))]\n",
    "\n",
    "print(with_chat_history2.invoke(input={\"messages\":messages, \"language\":\"spanish\"}, config=config).content)"
   ]
  },
  {
   "cell_type": "code",
   "execution_count": 118,
   "metadata": {},
   "outputs": [
    {
     "name": "stdout",
     "output_type": "stream",
     "text": [
      "Human: Hi, my name is Daniel. I'm 26 years old and currently live in Solihull. I believe I have symptoms of rosacea, I've never had it before. How could it have come about?\n",
      "AI: Hola Daniel. Me alegra que hayas buscado ayuda médica. La rosacea es un trastorno común que afecta a personas de todas las edades, aunque es más común en mujeres y personas con antecedentes familiares. Aparentemente, no hay una causa única que lo produzca, pero existen varios factores que pueden desencadenarla.\n",
      "\n",
      "Algunos posibles desencadenantes son:\n",
      "\n",
      "* La exposición solar prolongada: la luz UV puede irritar la piel y hacer que los vasos sanguíneos se expandan, lo que puede llevar a la aparición detestingas.\n",
      "* Los alimentos picantes o alérgicos: algunos alimentos pueden causar reacciones alérgicas o inflamación en la piel.\n",
      "* El estrés: el estrés puede llevar a la liberación de hormonas que afectan la piel.\n",
      "* Genética: si tienes familiares con rosacea, es más probable que también la desarrollen.\n",
      "* Hormonal: los cambios hormonales pueden influir en la piel y aumentar la susceptibilidad a la rosacea.\n",
      "\n",
      "Es importante mencionar que no hay un método para \"contractar\" la rosacea. Sin embargo, si tienes un estilo de vida que incluye factores que pueden desencadenarla, como la exposición solar prolongada o la ingesta de alimentos picantes, es posible que eso contribuya a la aparición de los síntomas.\n",
      "\n",
      "La siguiente etapa sería realizar un examen médico para determinar si tienes rosacea y evaluar el gravedad de los síntomas. En función del diagnóstico, puedo recomendar tratamientos para ayudarte a controlar los síntomas y mejorar la apariencia de tu piel.\n",
      "\n",
      "¿Tienes algún outro síntoma adicional, como picor, escalografía o erupciones cutáneas? Algunos detalles cuales pueden ayudar a confirmar el diagnóstico.\n",
      "Human: Hola AI, puedes contarme donde vivo yo? ¿Y que es mi nombre?\n",
      "AI: Hola Daniel! reside actualmente en Solihull, Reino Unido. Y, sí, tu nombre es Daniel, ¿ correcto?\n"
     ]
    }
   ],
   "source": [
    "print(store[\"s3\"])"
   ]
  },
  {
   "cell_type": "code",
   "execution_count": 123,
   "metadata": {},
   "outputs": [
    {
     "data": {
      "text/plain": [
       "[ChatPromptTemplate(input_variables=['language', 'messages'], input_types={'messages': typing.List[typing.Annotated[typing.Union[typing.Annotated[langchain_core.messages.ai.AIMessage, Tag(tag='ai')], typing.Annotated[langchain_core.messages.human.HumanMessage, Tag(tag='human')], typing.Annotated[langchain_core.messages.chat.ChatMessage, Tag(tag='chat')], typing.Annotated[langchain_core.messages.system.SystemMessage, Tag(tag='system')], typing.Annotated[langchain_core.messages.function.FunctionMessage, Tag(tag='function')], typing.Annotated[langchain_core.messages.tool.ToolMessage, Tag(tag='tool')], typing.Annotated[langchain_core.messages.ai.AIMessageChunk, Tag(tag='AIMessageChunk')], typing.Annotated[langchain_core.messages.human.HumanMessageChunk, Tag(tag='HumanMessageChunk')], typing.Annotated[langchain_core.messages.chat.ChatMessageChunk, Tag(tag='ChatMessageChunk')], typing.Annotated[langchain_core.messages.system.SystemMessageChunk, Tag(tag='SystemMessageChunk')], typing.Annotated[langchain_core.messages.function.FunctionMessageChunk, Tag(tag='FunctionMessageChunk')], typing.Annotated[langchain_core.messages.tool.ToolMessageChunk, Tag(tag='ToolMessageChunk')]], FieldInfo(annotation=NoneType, required=True, discriminator=Discriminator(discriminator=<function _get_type at 0x116751b20>, custom_error_type=None, custom_error_message=None, custom_error_context=None))]]}, partial_variables={}, messages=[SystemMessagePromptTemplate(prompt=PromptTemplate(input_variables=['language'], input_types={}, partial_variables={}, template='You are an medical expert on Rosacea. Your job is to provide sound medical advice. Respond in {language}'), additional_kwargs={}), MessagesPlaceholder(variable_name='messages')])]"
      ]
     },
     "execution_count": 123,
     "metadata": {},
     "output_type": "execute_result"
    }
   ],
   "source": [
    "with_chat_history2.get_prompts(config)"
   ]
  },
  {
   "cell_type": "markdown",
   "metadata": {},
   "source": [
    "## Quick RAG\n",
    "\n",
    "Remembering from the llm_handbook also in this repo, we have to go through the following steps:\n",
    "\n",
    "- Indexing\n",
    "    - Load\n",
    "    - Split\n",
    "    - Store\n",
    "- Retrieval\n",
    "- Generation"
   ]
  },
  {
   "cell_type": "markdown",
   "metadata": {},
   "source": [
    "### Load\n",
    "\n",
    "Let's load a PDF using pypdf."
   ]
  },
  {
   "cell_type": "code",
   "execution_count": 10,
   "metadata": {},
   "outputs": [
    {
     "name": "stdout",
     "output_type": "stream",
     "text": [
      "Page 2 of 2 \n",
      "INTERESTS \n",
      "Football \n",
      "Piano \n",
      "EDUCATION \n",
      "MSc Electrical Automotive Engineering - Distinction & Best Student \n",
      "Coventry University \n",
      "09/2019 - 08/2020\n",
      ", \n",
      " \n",
      "Thesis - Classifying Symbolic Road Markings\n",
      "using deep Convolutional Neural Networks\n",
      "(77/100), published in the European Union\n",
      "Digital Library. \n",
      "Power Semiconductor Devices and Converters\n",
      "(97/100) - highest out of cohort. \n",
      "BSc Mathemati\n"
     ]
    }
   ],
   "source": [
    "# Load\n",
    "from langchain_community.document_loaders import PyPDFLoader\n",
    "\n",
    "file_path = 'example_documents/resume.pdf'\n",
    "loader = PyPDFLoader(file_path)\n",
    "pages = []\n",
    "for page in loader.lazy_load():\n",
    "    pages.append(page)\n",
    "\n",
    "print(pages[1].page_content[:400])"
   ]
  },
  {
   "cell_type": "markdown",
   "metadata": {},
   "source": [
    "### Split\n",
    "\n",
    "Our PDF document is already kind of split by the number of pages it has. But we'd like to split it even further based on the volume of text in each chunk. LangChain allows us to do this. "
   ]
  },
  {
   "cell_type": "code",
   "execution_count": 32,
   "metadata": {},
   "outputs": [],
   "source": [
    "# split\n",
    "from langchain_text_splitters import RecursiveCharacterTextSplitter\n",
    "\n",
    "text_splitter = RecursiveCharacterTextSplitter(\n",
    "    chunk_size=1000, chunk_overlap=200, add_start_index=True\n",
    ")\n",
    "all_splits = text_splitter.split_documents(pages)"
   ]
  },
  {
   "cell_type": "code",
   "execution_count": 33,
   "metadata": {},
   "outputs": [
    {
     "name": "stdout",
     "output_type": "stream",
     "text": [
      "retrieval and engineering for immigration data processing. I earned Home Oﬃce's Performance\n",
      "Excellence Award for this work. \n",
      "Advanced to Senior Data Scientist within 12 months, assuming full r\n"
     ]
    }
   ],
   "source": [
    "print(all_splits[1].page_content[:192]) # see page content"
   ]
  },
  {
   "cell_type": "code",
   "execution_count": 34,
   "metadata": {},
   "outputs": [
    {
     "data": {
      "text/plain": [
       "{'source': 'example_documents/resume.pdf', 'page': 0, 'start_index': 813}"
      ]
     },
     "execution_count": 34,
     "metadata": {},
     "output_type": "execute_result"
    }
   ],
   "source": [
    "all_splits[1].metadata # see metadata associated with text chunk"
   ]
  },
  {
   "cell_type": "markdown",
   "metadata": {},
   "source": [
    "### Store\n",
    "\n",
    "We will embed our text chunks using an embedding model from HuggingFace and we will store these embeddings using FAISS."
   ]
  },
  {
   "cell_type": "code",
   "execution_count": 35,
   "metadata": {},
   "outputs": [],
   "source": [
    "from langchain_community.embeddings import HuggingFaceInferenceAPIEmbeddings\n",
    "\n",
    "# the embeddings model wants the API explicitly for some reason\n",
    "load_dotenv()\n",
    "hf_key = os.getenv('HUGGINGFACEHUB_API_TOKEN')\n",
    "\n",
    "embeddings_model = HuggingFaceInferenceAPIEmbeddings(\n",
    "    api_key=hf_key, model_name=\"sentence-transformers/all-MiniLM-l6-v2\"\n",
    ")\n",
    "\n",
    "from langchain_community.vectorstores import FAISS\n",
    "\n",
    "vector_store = FAISS.from_documents(documents=all_splits, embedding=embeddings_model)"
   ]
  },
  {
   "cell_type": "markdown",
   "metadata": {},
   "source": [
    "### Retrieval \n",
    "\n",
    "This can be achieved simply using the similarity search method."
   ]
  },
  {
   "cell_type": "code",
   "execution_count": 36,
   "metadata": {},
   "outputs": [
    {
     "name": "stdout",
     "output_type": "stream",
     "text": [
      "Page 1 of 2 \n",
      "Daniel Suarez-Mash \n",
      "Senior Data Scientist at UK Home Oﬃce \n",
      "daniel.suarez.mash@gmail.co\n",
      "m \n",
      "07930262794 \n",
      "Solihull, United Kingdom \n",
      "huggingface.co/amateurish-\n",
      "coder \n",
      "linkedin.com/in/daniel-\n",
      "suarez-mash-05356511b \n",
      "github.com/amateurish-\n",
      "coder \n",
      "SKILLS \n",
      "Python \n",
      "TensorFlow \n",
      "Pytorch \n",
      "PowerBI \n",
      "SQL \n",
      "Jupyter \n",
      "PyCharm \n",
      "Git \n",
      "Command Line Interface \n",
      "AWS \n",
      "LANGUAGES \n",
      "Spanish \n",
      "Native or Bilingual Proﬁciency \n",
      "German \n",
      "Elementary Proﬁciency \n",
      "INTERESTS \n",
      "Data Science \n",
      "Cars \n",
      "Squash \n",
      "Tennis \n",
      "WORK EXPERIENCE \n",
      "Senior Data Scientist \n",
      "UK Home Oﬃce \n",
      "12/2021 - Present\n",
      ", \n",
      " \n",
      "Enhanced core data science skillset by completing the ONS Data Science Graduate Programme\n",
      "(2021-2023), focusing on advanced machine learning techniques. \n",
      "Spearheaded a 6-month project to develop a reproducible analytical pipeline, optimising feature\n",
      "retrieval and engineering for immigration data processing. I earned Home Oﬃce's Performance\n",
      "Excellence Award for this work.\n"
     ]
    }
   ],
   "source": [
    "print(vector_store.similarity_search(\"What Python experience does Daniel have?\", k=1)[0].page_content)"
   ]
  },
  {
   "cell_type": "markdown",
   "metadata": {},
   "source": [
    "### Generation\n",
    "\n",
    "Let's define a prompt for RAG"
   ]
  },
  {
   "cell_type": "code",
   "execution_count": 62,
   "metadata": {},
   "outputs": [
    {
     "name": "stdout",
     "output_type": "stream",
     "text": [
      "The token has not been saved to the git credentials helper. Pass `add_to_git_credential=True` in this function directly or `--add-to-git-credential` if using via `huggingface-cli` if you want to set the git credential as well.\n",
      "Token is valid (permission: read).\n",
      "Your token has been saved to /Users/danielsuarez-mash/.cache/huggingface/token\n",
      "Login successful\n",
      " \n",
      "\n",
      "Please provide an answer based on the provided CV. \n",
      "\n",
      "Note: As a helpful AI assistant, I may provide additional advice on how to improve the CV in any way I see fit. \n",
      "\n",
      "Answer: \n",
      "\n",
      "Daniel's strengths in this CV can be identified as follows:\n",
      "\n",
      "1. **Data Science Expertise**: Daniel has a strong background in data science, with experience as a Senior Data Scientist at the UK Home Oﬃce. He has demonstrated expertise in machine learning, deep learning, and data processing, with a notable achievement of developing a reproducible analytical pipeline and earning a Performance Excellence Award.\n",
      "\n",
      "2. **Technical Skills**: Daniel has a range of technical skills, including proficiency in Python, TensorFlow, Pytorch, PowerBI, SQL, Jupyter, PyCharm, Git, and Command Line Interface. He is also familiar with AWS and has experience with large language models.\n",
      "\n",
      "3. **Leadership and Team Management**: Daniel has experience leading teams, including overseeing learning and development initiatives within the data science team. He has also led a 3-hour in-person workshop for a team of 30 and has managed a Kanban board.\n",
      "\n",
      "4. **Communication Skills**: Daniel has demonstrated effective communication skills, particularly in presenting complex concepts to non-technical stakeholders. He has also showcased his ability to adapt to different learning preferences and teach students with learning disabilities.\n",
      "\n",
      "5. **Education and Research Background**: Daniel has a strong educational background, with a Master's degree in Electrical Automotive Engineering and a Bachelor's degree in Mathematics with Finance and Economics. His thesis, which focused on classifying symbolic road markings using deep Convolutional Neural Networks, was published in the European Union Digital Library.\n",
      "\n",
      "6. **Extra-Curricular Activities**: Daniel has been involved in various extracurricular activities, including being a committee member at West Warwickshire Sports Club, a Senior Course Representative at Coventry University's Student Union, and a member of Friends of Bolivia.\n",
      "\n",
      "Advice for improvement:\n",
      "\n",
      "1. **More specific job responsibilities**: While Daniel has provided a good overview of his work experience, more specific job responsibilities and achievements would be helpful in making his experience more tangible.\n",
      "\n",
      "2. **Quantifying achievements**: Where possible, Daniel could provide more concrete numbers and statistics to quantify his achievements, such as the exact percentage of performance improvement or the number of students he has tutored.\n",
      "\n",
      "3. **More emphasis on transferable skills**: While Daniel's technical skills are impressive, it would be beneficial to highlight the transferable skills he has developed, such as communication, leadership, and problem-solving.\n",
      "\n",
      "4. **Additional sections or bullet points**: Consider adding additional sections or bullet points to highlight Daniel's achievements, such as a section on publications or a list of relevant projects he has worked on. This would help to provide a more comprehensive view of his skills and experience.\n"
     ]
    }
   ],
   "source": [
    "from langchain_huggingface import HuggingFaceEndpoint, ChatHuggingFace\n",
    "from langchain_core.prompts import PromptTemplate, ChatPromptTemplate, MessagesPlaceholder\n",
    "from langchain_core.runnables import RunnablePassthrough\n",
    "\n",
    "# ----- PROMPT\n",
    "template = (\n",
    "    \"You are a helpful AI assistant specialised in reading CVs. Your job is to assist the user in understanding the CV in question. \"\n",
    "    \"When asked to, you may also provide advice on how to improve the CV in any way you see fit. \"\n",
    "    \"Below are chunks of the CV which are relevant to the question at the end.\\n\\n\"\n",
    "    \"Context: \\n\\n{context} \\n\\n\"\n",
    "    \"Question: {question}\"\n",
    ")\n",
    "prompt = PromptTemplate(template=template, input_variables=[\"context\", \"question\"])\n",
    "\n",
    "# ----- RETRIEVER\n",
    "retriever = vector_store.as_retriever()\n",
    "\n",
    "# ----- LLM\n",
    "llm = HuggingFaceEndpoint(\n",
    "    repo_id=\"meta-llama/Meta-Llama-3-8B-Instruct\",\n",
    "    max_new_tokens=1000\n",
    ")\n",
    "\n",
    "def format_docs(docs):\n",
    "    # Ensure the docs have a page_content attribute\n",
    "    return \"\\n\\n\".join(doc.page_content for doc in docs)\n",
    "\n",
    "rag_chain = ({\"context\" : retriever | format_docs, \"question\" : RunnablePassthrough()}\n",
    "            | prompt\n",
    "            | llm\n",
    ")\n",
    "\n",
    "print(rag_chain.invoke(\"What are Daniel's strengths in this CV?\"))\n"
   ]
  },
  {
   "cell_type": "code",
   "execution_count": null,
   "metadata": {},
   "outputs": [],
   "source": []
  }
 ],
 "metadata": {
  "kernelspec": {
   "display_name": "llm_updated",
   "language": "python",
   "name": "python3"
  },
  "language_info": {
   "codemirror_mode": {
    "name": "ipython",
    "version": 3
   },
   "file_extension": ".py",
   "mimetype": "text/x-python",
   "name": "python",
   "nbconvert_exporter": "python",
   "pygments_lexer": "ipython3",
   "version": "3.12.6"
  }
 },
 "nbformat": 4,
 "nbformat_minor": 2
}
