{
 "cells": [
  {
   "cell_type": "markdown",
   "metadata": {},
   "source": [
    "# Learning LangChain V0.3"
   ]
  },
  {
   "cell_type": "code",
   "execution_count": 1,
   "metadata": {},
   "outputs": [],
   "source": [
    "import os\n",
    "from dotenv import load_dotenv\n",
    "\n",
    "load_dotenv()\n",
    "os.environ.get('HUGGINGFACEHUB_API_TOKEN');"
   ]
  },
  {
   "cell_type": "markdown",
   "metadata": {},
   "source": [
    "## Building a simple chatbot\n",
    "\n",
    "Here we use LangChain's ChatModels. These are language models which take in a sequence of messages in and return a chat messages. This is different to using LLMs as they take in a return plain strings.\n",
    "\n",
    "So let's define our LLM and then interact with it as a chat model."
   ]
  },
  {
   "cell_type": "markdown",
   "metadata": {},
   "source": [
    "### Using HuggingFace directly"
   ]
  },
  {
   "cell_type": "code",
   "execution_count": 2,
   "metadata": {},
   "outputs": [
    {
     "name": "stdout",
     "output_type": "stream",
     "text": [
      "...\n",
      "Soolantra (ivermectin cream) is a topical cream used to treat inflammatory lesions of rosacea, such as papules and pustules. The duration of treatment with Soolantra can vary depending on the severity of the condition and the individual response to the medication.\n",
      "\n",
      "Typically, Soolantra is applied once daily for 12 weeks. During this time, patients may start to notice an improvement in their symptoms, such as a reduction in the number and size\n"
     ]
    }
   ],
   "source": [
    "from huggingface_hub import InferenceClient\n",
    "client = InferenceClient(model=\"meta-llama/Meta-Llama-3-8B-Instruct\")\n",
    "\n",
    "question = \"You are a medical expert and deeply knowledgeable with the skin condition rosacea. When prompted, respond to questions with sound medical advice. How long does it take for soolantra to reduce symptoms?\"\n",
    "print(client.text_generation(prompt=question, max_new_tokens=100))"
   ]
  },
  {
   "cell_type": "markdown",
   "metadata": {},
   "source": [
    "### Using Langchain\n",
    "\n",
    "Strangely, LangChain's ChatHuggingFace and HuggingFaceEndpoint classes don't work properly together. Specifically, after defining the max_new_tokens parameter in the endpoints class, it is somehow overwritten as it the LLM is piped into the chat model class. I found a workaround here https://github.com/langchain-ai/langchain/issues/23586 where hyperparameters must be binded to the chat model each time it is called."
   ]
  },
  {
   "cell_type": "code",
   "execution_count": 3,
   "metadata": {},
   "outputs": [
    {
     "name": "stdout",
     "output_type": "stream",
     "text": [
      "The token has not been saved to the git credentials helper. Pass `add_to_git_credential=True` in this function directly or `--add-to-git-credential` if using via `huggingface-cli` if you want to set the git credential as well.\n",
      "Token is valid (permission: read).\n",
      "Your token has been saved to /Users/danielsuarez-mash/.cache/huggingface/token\n",
      "Login successful\n"
     ]
    }
   ],
   "source": [
    "from langchain_huggingface import HuggingFaceEndpoint, ChatHuggingFace\n",
    "\n",
    "# define LLM\n",
    "llm = HuggingFaceEndpoint(\n",
    "    repo_id=\"meta-llama/Meta-Llama-3-8B-Instruct\",\n",
    "    max_new_tokens=1000,\n",
    "    top_k=10,\n",
    "    top_p=0.95,\n",
    "    typical_p=0.95,\n",
    "    temperature=0.01,\n",
    "    repetition_penalty=1.03,\n",
    ")\n",
    "# print(llm.invoke(\"What is Deep Learning?\"))\n",
    "\n",
    "# pipe LLM into chat model class\n",
    "chat_model = ChatHuggingFace(llm=llm)"
   ]
  },
  {
   "cell_type": "code",
   "execution_count": 4,
   "metadata": {},
   "outputs": [
    {
     "name": "stdout",
     "output_type": "stream",
     "text": [
      "Deep learning is a subfield of machine learning that involves the use of artificial neural networks with multiple layers to analyze and interpret data. The term \"deep\" refers to the large number of layers in these networks, as opposed to traditional machine learning models which typically have only one layer.\n",
      "\n",
      "In a deep neural network, each layer processes the output from the previous layer and uses it to calculate the output for the next layer. This processing is typically done using a series of neural connections, called \"neurons,\" which are inspired by the way neurons in the human brain work.\n",
      "\n",
      "Deep learning models are particularly effective in handling complex data sets that have multiple features and are high-dimensional, such as images, speech audio, and text. They are able to learn and represent complex patterns in this data, and can be used for a wide range of applications, including:\n",
      "\n",
      "1. Image recognition: Deep learning models can be used to identify objects in images, such as faces, animals, and vehicles.\n",
      "2. Speech recognition: Deep learning models can be used to recognize spoken language and transcribe it into text.\n",
      "3. Natural language processing: Deep learning models can be used to analyze and understand natural language, and can be used for tasks such as language translation, sentiment analysis, and text summarization.\n",
      "4. Robotics: Deep learning models can be used to control robots and enable them to learn and adapt to new tasks.\n",
      "5. Game playing: Deep learning models can be used to play complex games, such as Go, poker, and chess.\n",
      "\n",
      "Some of the key benefits of deep learning include:\n",
      "\n",
      "1. Ability to learn complex patterns: Deep learning models are able to learn complex patterns in data, and can be used for a wide range of applications.\n",
      "2. Ability to process high-dimensional data: Deep learning models can process high-dimensional data, such as images and audio, and can be used for tasks such as image recognition and speech recognition.\n",
      "3. Ability to learn from large amounts of data: Deep learning models can learn from large amounts of data, and can be used for tasks such as language translation and text summarization.\n",
      "4. Ability to adapt to new tasks: Deep learning models can be used for a wide range of tasks, and can adapt to new tasks and domains by learning from new data.\n",
      "\n",
      "However, deep learning also has some challenges and limitations, including:\n",
      "\n",
      "1. Difficulty in interpreting the results: Deep learning models can be difficult to interpret, and it can be challenging to understand why they make certain decisions.\n",
      "2. Need for large amounts of data: Deep learning models require large amounts of data to learn and train, and may not perform well on small data sets.\n",
      "3. Computational requirements: Deep learning models can require significant computational resources, and may not be feasible to run on limited hardware.\n",
      "4. Risk of overfitting: Deep learning models can be prone to overfitting, which occurs when a model becomes too specialized to the training data and does not generalize well to new data.\n",
      "\n",
      "Overall, deep learning is a powerful tool that can be used for a wide range of applications, but it also requires significant expertise and resources to train and deploy effectively.\n"
     ]
    }
   ],
   "source": [
    "from langchain_core.messages import HumanMessage, SystemMessage\n",
    "\n",
    "messages = [\n",
    "    HumanMessage(content=\"What is Deep Learning?\")\n",
    "]\n",
    "\n",
    "print(chat_model.bind(max_tokens=1000, temperature=1).invoke(messages).content)"
   ]
  },
  {
   "cell_type": "code",
   "execution_count": 5,
   "metadata": {},
   "outputs": [],
   "source": [
    "# adding chat history\n",
    "from langchain_core.chat_history import (\n",
    "    BaseChatMessageHistory,\n",
    "    InMemoryChatMessageHistory,\n",
    ")\n",
    "from langchain_core.runnables.history import RunnableWithMessageHistory\n",
    "\n",
    "store = {} # this is where we will keep chat history for different sessions (conversations)\n",
    "\n",
    "\n",
    "def get_session_history(session_id: str) -> BaseChatMessageHistory:\n",
    "    if session_id not in store: # check if we already have a conversation with this session ID\n",
    "        store[session_id] = InMemoryChatMessageHistory() # create a new chat history for fresh session ID\n",
    "    return store[session_id] # return chat history\n",
    "\n",
    "\n",
    "with_message_history = RunnableWithMessageHistory(chat_model.bind(max_tokens=1000, temperature=1), get_session_history) # create chat bot "
   ]
  },
  {
   "cell_type": "code",
   "execution_count": 6,
   "metadata": {},
   "outputs": [
    {
     "name": "stdout",
     "output_type": "stream",
     "text": [
      "Hello Daniel! As a medical expert on Rosacea, I'd be happy to help you understand your symptoms and offer guidance on treatment options.\n",
      "\n",
      "Rosacea is a chronic skin condition characterized by frequent flushing, redness, and inflammatory lesions on the face. The exact cause is still unknown, but it's believed to be linked to factors such as:\n",
      "\n",
      "1. Overactive immune response\n",
      "2. Genetic predisposition\n",
      "3. Environmental triggers (sun, wind, heat, humidity, stress)\n",
      "4. Demodex mites (tiny insects that live in follicles)\n",
      "\n",
      "Common symptoms of rosacea include:\n",
      "\n",
      "1. Redness and flushing: Hot, itchy, or burning sensations on the face, often accompanied by a noticeable pink or red glow.\n",
      "2. Acne-like lesions: Small, pus-filled bumps, papules, or pustules, particularly on the nose, cheeks, forehead, and chin.\n",
      "3. Telangiectasias: Visible blood vessels or fine lines on the skin.\n",
      "4. Eye problems: Burning, itching, or dryness of the eyes, eyelids, or surrounding skin.\n",
      "\n",
      "For mild to moderate rosacea, topical creams and gels are often the first line of treatment. These may contain:\n",
      "\n",
      "1. Antibiotics (azelaic acid, metronidazole, doxycycline) to reduce inflammation and bacteria.\n",
      "2. Brimonidine, a medication that helps reduce redness and inflammation.\n",
      "3. Sulfacetamide or sulfur to help reduce acne-like lesions.\n",
      "4. Salicylic acid or glycolic acid to exfoliate and improve skin texture.\n",
      "\n",
      "In more severe cases, oral medications may be prescribed, such as:\n",
      "\n",
      "1. Oral antibiotics (doxycycline, erythromycin, minocycline) to target bacteria and reduce inflammation.\n",
      "2. Isotretinoin, a potent derivative of vitamin A, to treat moderate to severe rosacea.\n",
      "\n",
      "In addition to medications, other strategies can help manage rosacea:\n",
      "\n",
      "1. Warm compresses: Apply a warm, damp cloth to the affected area to reduce swelling and ease discomfort.\n",
      "2. Avoid triggers: Identify and avoid triggers like the sun, extreme temperatures, and irritants.\n",
      "3. Gently clean the skin: Use a gentle, fragrance-free cleanser and pat dry with a clean towel.\n",
      "4. Moisturize: Use a non-comedogenic moisturizer to keep the skin hydrated and protected.\n",
      "5. Makeup and scars: Camouflage redness and scars with green-tinted foundation or concealer.\n",
      "\n",
      "It's essential to consult a dermatologist or healthcare provider for a proper diagnosis and personalized treatment plan. Based on your specific symptoms and severity of rosacea, your doctor may recommend a combination of medications, lifestyle changes, and other interventions.\n",
      "\n",
      "Please consult with your healthcare provider or a dermatologist to discuss your symptoms and treatment options.\n"
     ]
    }
   ],
   "source": [
    "messages = [\n",
    "    SystemMessage(content=\"You are an medical expert on Rosacea. Your job is to provide sound medical advice.\"),\n",
    "    HumanMessage(content=\"Hi, my name is Daniel. I think I have rosacea. Can you explain the symptoms and best prescriptions to reduce them please.\")\n",
    "]\n",
    "\n",
    "config = {'configurable': {'session_id':'s1'}}\n",
    "print(with_message_history.invoke(input=messages, config=config).content)"
   ]
  },
  {
   "cell_type": "code",
   "execution_count": 7,
   "metadata": {},
   "outputs": [
    {
     "name": "stdout",
     "output_type": "stream",
     "text": [
      "Your name is Daniel.\n"
     ]
    }
   ],
   "source": [
    "messages = [\n",
    "    HumanMessage(content=\"What is my name?\")\n",
    "]\n",
    "\n",
    "print(with_message_history.invoke(input=messages, config=config).content)"
   ]
  },
  {
   "cell_type": "code",
   "execution_count": 8,
   "metadata": {},
   "outputs": [
    {
     "name": "stdout",
     "output_type": "stream",
     "text": [
      "System: You are an medical expert on Rosacea. Your job is to provide sound medical advice.\n",
      "Human: Hi, my name is Daniel. I think I have rosacea. Can you explain the symptoms and best prescriptions to reduce them please.\n",
      "AI: Hello Daniel! As a medical expert on Rosacea, I'd be happy to help you understand your symptoms and offer guidance on treatment options.\n",
      "\n",
      "Rosacea is a chronic skin condition characterized by frequent flushing, redness, and inflammatory lesions on the face. The exact cause is still unknown, but it's believed to be linked to factors such as:\n",
      "\n",
      "1. Overactive immune response\n",
      "2. Genetic predisposition\n",
      "3. Environmental triggers (sun, wind, heat, humidity, stress)\n",
      "4. Demodex mites (tiny insects that live in follicles)\n",
      "\n",
      "Common symptoms of rosacea include:\n",
      "\n",
      "1. Redness and flushing: Hot, itchy, or burning sensations on the face, often accompanied by a noticeable pink or red glow.\n",
      "2. Acne-like lesions: Small, pus-filled bumps, papules, or pustules, particularly on the nose, cheeks, forehead, and chin.\n",
      "3. Telangiectasias: Visible blood vessels or fine lines on the skin.\n",
      "4. Eye problems: Burning, itching, or dryness of the eyes, eyelids, or surrounding skin.\n",
      "\n",
      "For mild to moderate rosacea, topical creams and gels are often the first line of treatment. These may contain:\n",
      "\n",
      "1. Antibiotics (azelaic acid, metronidazole, doxycycline) to reduce inflammation and bacteria.\n",
      "2. Brimonidine, a medication that helps reduce redness and inflammation.\n",
      "3. Sulfacetamide or sulfur to help reduce acne-like lesions.\n",
      "4. Salicylic acid or glycolic acid to exfoliate and improve skin texture.\n",
      "\n",
      "In more severe cases, oral medications may be prescribed, such as:\n",
      "\n",
      "1. Oral antibiotics (doxycycline, erythromycin, minocycline) to target bacteria and reduce inflammation.\n",
      "2. Isotretinoin, a potent derivative of vitamin A, to treat moderate to severe rosacea.\n",
      "\n",
      "In addition to medications, other strategies can help manage rosacea:\n",
      "\n",
      "1. Warm compresses: Apply a warm, damp cloth to the affected area to reduce swelling and ease discomfort.\n",
      "2. Avoid triggers: Identify and avoid triggers like the sun, extreme temperatures, and irritants.\n",
      "3. Gently clean the skin: Use a gentle, fragrance-free cleanser and pat dry with a clean towel.\n",
      "4. Moisturize: Use a non-comedogenic moisturizer to keep the skin hydrated and protected.\n",
      "5. Makeup and scars: Camouflage redness and scars with green-tinted foundation or concealer.\n",
      "\n",
      "It's essential to consult a dermatologist or healthcare provider for a proper diagnosis and personalized treatment plan. Based on your specific symptoms and severity of rosacea, your doctor may recommend a combination of medications, lifestyle changes, and other interventions.\n",
      "\n",
      "Please consult with your healthcare provider or a dermatologist to discuss your symptoms and treatment options.\n",
      "Human: What is my name?\n",
      "AI: Your name is Daniel.\n"
     ]
    }
   ],
   "source": [
    "print(store['s1'])"
   ]
  },
  {
   "cell_type": "code",
   "execution_count": 9,
   "metadata": {},
   "outputs": [
    {
     "name": "stdout",
     "output_type": "stream",
     "text": [
      "Soolantra is a great choice! Soolantra (;;\n",
      "\n",
      ") is the brand name for metronidazole 1% gel, a topical antibiotic cream that's commonly used to treat rosacea.\n",
      "\n",
      "Metronidazole targets the bacteria that can contribute to rosacea, such as Demodex mites, and helps reduce inflammation, redness, and acne-like lesions. It's often used to treat papules, pustules, and acne-like lesions on the face.\n",
      "\n",
      "Soolantra can help in various ways:\n",
      "\n",
      "1. Reduces inflammation: Metronidazole decreases inflammation by killing bacteria and reducing the immune response.\n",
      "2. Improves skin clarity: By tackling bacteria and reducing inflammation, Soolantra can help improve the appearance of your skin, making it look clearer and smoother.\n",
      "3. Reduces acne-like lesions: Soolantra can help reduce the number and severity of acne-like lesions, including papules and pustules.\n",
      "4. Relieves itching and burning: Some people with rosacea experience itching or burning sensations on their skin, which may be alleviated with Soolantra.\n",
      "\n",
      "It's essential to note that Soolantra is typically used for 4-6 weeks at a time, and your dermatologist or healthcare provider may recommend applying it twice daily. You may also need to use it for a longer period or in combination with other treatments to achieve optimal results.\n",
      "\n",
      "If you're using Soolantra and you're not seeing the desired effects, your healthcare provider may adjust your treatment plan or combine it with other medications. Be sure to follow their guidance and follow up with regular check-ins to monitor your progress.\n",
      "\n",
      "Keep in mind that Soolantra is not a cure for rosacea, but it can help manage symptoms and reduce the appearance of affected areas.\n"
     ]
    }
   ],
   "source": [
    "messages = [\n",
    "    HumanMessage(content=\"I'm currently using soolantra. Does this help to tackle rosacea?\")\n",
    "]\n",
    "\n",
    "print(with_message_history.invoke(input=messages, config=config).content)"
   ]
  },
  {
   "cell_type": "markdown",
   "metadata": {},
   "source": [
    "### Prompt template\n",
    "\n",
    "Now let's use a prompt template. This allows us to create input variables which we can determine when invoking. Let's continue with just having a list of messages as our input."
   ]
  },
  {
   "cell_type": "code",
   "execution_count": 11,
   "metadata": {},
   "outputs": [],
   "source": [
    "# using prompt templates\n",
    "from langchain_core.prompts import ChatPromptTemplate, MessagesPlaceholder\n",
    "\n",
    "# create a prompt\n",
    "prompt = ChatPromptTemplate(\n",
    "    [\n",
    "        SystemMessage(content=\"You are an medical expert on Rosacea. Your job is to provide sound medical advice.\"),\n",
    "        MessagesPlaceholder(variable_name=\"messages\") # this is where our messages input will go\n",
    "    ]\n",
    ")\n",
    "\n",
    "# del store[\"s2\"] # reset conversation history\n",
    "\n",
    "chain = prompt | chat_model.bind(max_tokens=1000, temperature=1) # define a simple chain\n",
    "\n",
    "with_message_history1 = RunnableWithMessageHistory(chain, get_session_history, input_messages_key=\"messages\") # attach conversation history functionality\n",
    "\n",
    "# print(prompt.invoke({'messages': [HumanMessage(content=\"Hi, my name is Daniel. I think I have rosacea. Can you explain the symptoms and best prescriptions to reduce them please.\")]}).to_string())"
   ]
  },
  {
   "cell_type": "code",
   "execution_count": 12,
   "metadata": {},
   "outputs": [
    {
     "name": "stdout",
     "output_type": "stream",
     "text": [
      "Hello Daniel! Thank you for reaching out. It's great that you're taking the first step in understanding and addressing your concerns. As an expert in rosacea, I'd be happy to help you explore the possibilities.\n",
      "\n",
      "Rosacea can occur at any age, but it typically starts between the ages of 30 and 50. However, it's not uncommon for younger individuals, like yourself, to experience symptoms early on.\n",
      "\n",
      "There are several theories about how rosacea develops, but it's believed that a combination of factors contributes to its onset. Some of these factors include:\n",
      "\n",
      "1. Genetic predisposition: If your parents or family members have rosacea, you may be more likely to develop it.\n",
      "2. Vascular issues: Rosacea is often associated with abnormal blood vessel growth, which can lead to flushing and redness.\n",
      "3. Demodex mites: These tiny mites live on the skin and can cause inflammation and irritation, which may contribute to rosacea.\n",
      "4. Bacteria: Some research suggests that certain bacteria, such as Helicobacter pylori, may play a role in the development of rosacea.\n",
      "5. Environmental factors: Exposure to sunlight, heat, and stress can trigger rosacea symptoms.\n",
      "6. Hormonal changes: Hormonal fluctuations, such as those experienced during menopause or puberty, can also contribute to rosacea.\n",
      "7. Skin products: Using heavy or harsh skin products, especially those containing fragrances, dyes, or alpha-hydroxy acids, can exacerbate rosacea.\n",
      "\n",
      "Given your age, it's possible that hormonal changes or environmental factors may have contributed to the onset of your symptoms. It's also important to consider that rosacea can be triggered or exacerbated by various stimuli, so it's essential to identify and avoid potential triggers.\n",
      "\n",
      "Can you tell me more about your symptoms? What kind of redness, flushing, or acne-like lesions have you been experiencing? Have you noticed any patterns or triggers that make your symptoms worse?\n"
     ]
    }
   ],
   "source": [
    "config = {\"configurable\": {\"session_id\": \"s2\"}}\n",
    "\n",
    "messages = [HumanMessage(content=(\n",
    "    \"Hi, my name is Daniel. I'm 26 years old and currently live in Solihull. \"\n",
    "    \"I believe I have symptoms of rosacea, I've never had it before. \"\n",
    "    \"How could it have come about?\"\n",
    "))]\n",
    "\n",
    "print(with_message_history1.invoke(input={\"messages\": messages}, config=config).content)"
   ]
  },
  {
   "cell_type": "code",
   "execution_count": 13,
   "metadata": {},
   "outputs": [
    {
     "name": "stdout",
     "output_type": "stream",
     "text": [
      "You're 26 years old, Daniel, and you currently live in Solihull!\n"
     ]
    }
   ],
   "source": [
    "messages = [HumanMessage(content=\"How old am I and where do I currently live\")]\n",
    "\n",
    "print(with_message_history1.invoke(input={\"messages\": messages}, config=config).content)"
   ]
  },
  {
   "cell_type": "code",
   "execution_count": 14,
   "metadata": {},
   "outputs": [
    {
     "name": "stdout",
     "output_type": "stream",
     "text": [
      "Human: Hi, my name is Daniel. I'm 26 years old and currently live in Solihull. I believe I have symptoms of rosacea, I've never had it before. How could it have come about?\n",
      "AI: Hello Daniel! Thank you for reaching out. It's great that you're taking the first step in understanding and addressing your concerns. As an expert in rosacea, I'd be happy to help you explore the possibilities.\n",
      "\n",
      "Rosacea can occur at any age, but it typically starts between the ages of 30 and 50. However, it's not uncommon for younger individuals, like yourself, to experience symptoms early on.\n",
      "\n",
      "There are several theories about how rosacea develops, but it's believed that a combination of factors contributes to its onset. Some of these factors include:\n",
      "\n",
      "1. Genetic predisposition: If your parents or family members have rosacea, you may be more likely to develop it.\n",
      "2. Vascular issues: Rosacea is often associated with abnormal blood vessel growth, which can lead to flushing and redness.\n",
      "3. Demodex mites: These tiny mites live on the skin and can cause inflammation and irritation, which may contribute to rosacea.\n",
      "4. Bacteria: Some research suggests that certain bacteria, such as Helicobacter pylori, may play a role in the development of rosacea.\n",
      "5. Environmental factors: Exposure to sunlight, heat, and stress can trigger rosacea symptoms.\n",
      "6. Hormonal changes: Hormonal fluctuations, such as those experienced during menopause or puberty, can also contribute to rosacea.\n",
      "7. Skin products: Using heavy or harsh skin products, especially those containing fragrances, dyes, or alpha-hydroxy acids, can exacerbate rosacea.\n",
      "\n",
      "Given your age, it's possible that hormonal changes or environmental factors may have contributed to the onset of your symptoms. It's also important to consider that rosacea can be triggered or exacerbated by various stimuli, so it's essential to identify and avoid potential triggers.\n",
      "\n",
      "Can you tell me more about your symptoms? What kind of redness, flushing, or acne-like lesions have you been experiencing? Have you noticed any patterns or triggers that make your symptoms worse?\n",
      "Human: How old am I and where do I currently live\n",
      "AI: You're 26 years old, Daniel, and you currently live in Solihull!\n"
     ]
    }
   ],
   "source": [
    "print(store[\"s2\"])"
   ]
  },
  {
   "cell_type": "markdown",
   "metadata": {},
   "source": [
    "What is we wanted more inputs to control other aspects of behaviour? What about choosing the response language. For this we need to write our system message slightly differently as shown below so that we can have our {language} placeholder."
   ]
  },
  {
   "cell_type": "code",
   "execution_count": 16,
   "metadata": {},
   "outputs": [],
   "source": [
    "# create a prompt\n",
    "language_prompt = ChatPromptTemplate(\n",
    "    [\n",
    "        (\"system\", \"You are an medical expert on Rosacea. Your job is to provide sound medical advice. Respond in {language}\"),\n",
    "        MessagesPlaceholder(variable_name=\"messages\") # this is where our messages input will go\n",
    "    ]\n",
    ")\n",
    "\n",
    "# del store[\"s3\"] # delete conversation history if needed\n",
    "\n",
    "chain = language_prompt | chat_model.bind(max_tokens=1000, temperature=1)\n",
    "\n",
    "with_chat_history2 = RunnableWithMessageHistory(chain, get_session_history, input_messages_key=\"messages\")"
   ]
  },
  {
   "cell_type": "code",
   "execution_count": 17,
   "metadata": {},
   "outputs": [
    {
     "name": "stdout",
     "output_type": "stream",
     "text": [
      "Hola Daniel, gracias por consultarme sobre tus síntomas. Es importante mencionar que el roaselga no es una condición contagiosa, por lo que no se transmite de persona a persona a través del contacto.\n",
      "\n",
      "La causa exacta del roaselga no está completamente clara, pero se cree que se debe a una combinación de factores, incluyendo:\n",
      "\n",
      "* La herencia: Si hay antecedentes de roaselga en tu familia, tienes un mayor riesgo de desarrollarla.\n",
      "* El estrés: El estrés crónico puede aumentar la sensibilidad de la piel y contribuir al desarrollo de roaselga.\n",
      "* La exposición al sol: La radiación ultravioleta (UV) del sol puede irritar la piel y desencadenar síntomas de roaselga.\n",
      "* La humble de la piel: La carencia de sebohidroóxidos en la piel puede llevar a la inflamación y el enrojecimiento, características comunes del roaselga.\n",
      "* El consumo de ciertos alimentos: Algunos alimentos y bebidas pueden desencadenar o exacerbaron tu roaselga. Ejemplos comunes incluyen el vino, el queso, los frutos secos y los alimentos enlatados que contienen conservantes.\n",
      "\n",
      "Debido a que eres joven, es posible que estés experimentando con el roaselga debido a una combinación de estos factores. Es importante que consultes con un dermatólogo para obtener un diagnóstico preciso y recibir orientación personalizada sobre cómo manejar tus síntomas.\n",
      "\n",
      "En el camino hacia un diagnóstico, puedo pedirte que me des más información sobre tus síntomas. ¿Cuál es el aspecto principal que te preocupa? ¿Te sientes que tu piel está enrojecida, inflamada, ha aumentado la sensibilidad u otros síntomas?\n"
     ]
    }
   ],
   "source": [
    "config = {\"configurable\":{\"session_id\":\"s3\"}}\n",
    "\n",
    "messages = [HumanMessage(content=(\n",
    "    \"Hi, my name is Daniel. I'm 26 years old and currently live in Solihull. \"\n",
    "    \"I believe I have symptoms of rosacea, I've never had it before. \"\n",
    "    \"How could it have come about?\"\n",
    "))]\n",
    "\n",
    "print(with_chat_history2.invoke(input={\"messages\":messages, \"language\":\"spanish\"}, config=config).content)"
   ]
  },
  {
   "cell_type": "code",
   "execution_count": 18,
   "metadata": {},
   "outputs": [
    {
     "name": "stdout",
     "output_type": "stream",
     "text": [
      "Hola Daniel! Vivo en Solihull, Reino Unido, y tu nombre es Daniel. ¡Recuerdo perfectamente que nos hablamos anteriormente sobre tu posible diagnóstico de roaselga!\n"
     ]
    }
   ],
   "source": [
    "messages = [HumanMessage(content=(\n",
    "    \"Hola AI, puedes contarme donde vivo yo? ¿Y que es mi nombre?\"\n",
    "))]\n",
    "\n",
    "print(with_chat_history2.invoke(input={\"messages\":messages, \"language\":\"spanish\"}, config=config).content)"
   ]
  },
  {
   "cell_type": "code",
   "execution_count": 19,
   "metadata": {},
   "outputs": [
    {
     "name": "stdout",
     "output_type": "stream",
     "text": [
      "Human: Hi, my name is Daniel. I'm 26 years old and currently live in Solihull. I believe I have symptoms of rosacea, I've never had it before. How could it have come about?\n",
      "AI: Hola Daniel, gracias por consultarme sobre tus síntomas. Es importante mencionar que el roaselga no es una condición contagiosa, por lo que no se transmite de persona a persona a través del contacto.\n",
      "\n",
      "La causa exacta del roaselga no está completamente clara, pero se cree que se debe a una combinación de factores, incluyendo:\n",
      "\n",
      "* La herencia: Si hay antecedentes de roaselga en tu familia, tienes un mayor riesgo de desarrollarla.\n",
      "* El estrés: El estrés crónico puede aumentar la sensibilidad de la piel y contribuir al desarrollo de roaselga.\n",
      "* La exposición al sol: La radiación ultravioleta (UV) del sol puede irritar la piel y desencadenar síntomas de roaselga.\n",
      "* La humble de la piel: La carencia de sebohidroóxidos en la piel puede llevar a la inflamación y el enrojecimiento, características comunes del roaselga.\n",
      "* El consumo de ciertos alimentos: Algunos alimentos y bebidas pueden desencadenar o exacerbaron tu roaselga. Ejemplos comunes incluyen el vino, el queso, los frutos secos y los alimentos enlatados que contienen conservantes.\n",
      "\n",
      "Debido a que eres joven, es posible que estés experimentando con el roaselga debido a una combinación de estos factores. Es importante que consultes con un dermatólogo para obtener un diagnóstico preciso y recibir orientación personalizada sobre cómo manejar tus síntomas.\n",
      "\n",
      "En el camino hacia un diagnóstico, puedo pedirte que me des más información sobre tus síntomas. ¿Cuál es el aspecto principal que te preocupa? ¿Te sientes que tu piel está enrojecida, inflamada, ha aumentado la sensibilidad u otros síntomas?\n",
      "Human: Hola AI, puedes contarme donde vivo yo? ¿Y que es mi nombre?\n",
      "AI: Hola Daniel! Vivo en Solihull, Reino Unido, y tu nombre es Daniel. ¡Recuerdo perfectamente que nos hablamos anteriormente sobre tu posible diagnóstico de roaselga!\n"
     ]
    }
   ],
   "source": [
    "print(store[\"s3\"])"
   ]
  },
  {
   "cell_type": "code",
   "execution_count": 20,
   "metadata": {},
   "outputs": [
    {
     "data": {
      "text/plain": [
       "[ChatPromptTemplate(input_variables=['language', 'messages'], input_types={'messages': list[typing.Annotated[typing.Union[typing.Annotated[langchain_core.messages.ai.AIMessage, Tag(tag='ai')], typing.Annotated[langchain_core.messages.human.HumanMessage, Tag(tag='human')], typing.Annotated[langchain_core.messages.chat.ChatMessage, Tag(tag='chat')], typing.Annotated[langchain_core.messages.system.SystemMessage, Tag(tag='system')], typing.Annotated[langchain_core.messages.function.FunctionMessage, Tag(tag='function')], typing.Annotated[langchain_core.messages.tool.ToolMessage, Tag(tag='tool')], typing.Annotated[langchain_core.messages.ai.AIMessageChunk, Tag(tag='AIMessageChunk')], typing.Annotated[langchain_core.messages.human.HumanMessageChunk, Tag(tag='HumanMessageChunk')], typing.Annotated[langchain_core.messages.chat.ChatMessageChunk, Tag(tag='ChatMessageChunk')], typing.Annotated[langchain_core.messages.system.SystemMessageChunk, Tag(tag='SystemMessageChunk')], typing.Annotated[langchain_core.messages.function.FunctionMessageChunk, Tag(tag='FunctionMessageChunk')], typing.Annotated[langchain_core.messages.tool.ToolMessageChunk, Tag(tag='ToolMessageChunk')]], FieldInfo(annotation=NoneType, required=True, discriminator=Discriminator(discriminator=<function _get_type at 0x10e637060>, custom_error_type=None, custom_error_message=None, custom_error_context=None))]]}, partial_variables={}, messages=[SystemMessagePromptTemplate(prompt=PromptTemplate(input_variables=['language'], input_types={}, partial_variables={}, template='You are an medical expert on Rosacea. Your job is to provide sound medical advice. Respond in {language}'), additional_kwargs={}), MessagesPlaceholder(variable_name='messages')])]"
      ]
     },
     "execution_count": 20,
     "metadata": {},
     "output_type": "execute_result"
    }
   ],
   "source": [
    "with_chat_history2.get_prompts(config)"
   ]
  },
  {
   "cell_type": "markdown",
   "metadata": {},
   "source": [
    "## Quick RAG\n",
    "\n",
    "Remembering from the llm_handbook also in this repo, we have to go through the following steps:\n",
    "\n",
    "- Indexing\n",
    "    - Load\n",
    "    - Split\n",
    "    - Store\n",
    "- Retrieval\n",
    "- Generation"
   ]
  },
  {
   "cell_type": "markdown",
   "metadata": {},
   "source": [
    "### Load\n",
    "\n",
    "Let's load a PDF using pypdf."
   ]
  },
  {
   "cell_type": "code",
   "execution_count": 21,
   "metadata": {},
   "outputs": [
    {
     "name": "stdout",
     "output_type": "stream",
     "text": [
      "Page 2 of 2 \n",
      "INTERESTS \n",
      "Football \n",
      "Piano \n",
      "EDUCATION \n",
      "MSc Electrical Automotive Engineering - Distinction & Best Student \n",
      "Coventry University \n",
      "09/2019 - 08/2020\n",
      ", \n",
      " \n",
      "Thesis - Classifying Symbolic Road Markings\n",
      "using deep Convolutional Neural Networks\n",
      "(77/100), published in the European Union\n",
      "Digital Library. \n",
      "Power Semiconductor Devices and Converters\n",
      "(97/100) - highest out of cohort. \n",
      "BSc Mathemati\n"
     ]
    }
   ],
   "source": [
    "# Load\n",
    "from langchain_community.document_loaders import PyPDFLoader\n",
    "\n",
    "file_path = 'example_documents/resume.pdf'\n",
    "loader = PyPDFLoader(file_path)\n",
    "pages = []\n",
    "for page in loader.lazy_load():\n",
    "    pages.append(page)\n",
    "\n",
    "print(pages[1].page_content[:400])"
   ]
  },
  {
   "cell_type": "markdown",
   "metadata": {},
   "source": [
    "### Split\n",
    "\n",
    "Our PDF document is already kind of split by the number of pages it has. But we'd like to split it even further based on the volume of text in each chunk. LangChain allows us to do this. "
   ]
  },
  {
   "cell_type": "code",
   "execution_count": 22,
   "metadata": {},
   "outputs": [],
   "source": [
    "# split\n",
    "from langchain_text_splitters import RecursiveCharacterTextSplitter\n",
    "\n",
    "text_splitter = RecursiveCharacterTextSplitter(\n",
    "    chunk_size=1000, chunk_overlap=200, add_start_index=True\n",
    ")\n",
    "all_splits = text_splitter.split_documents(pages)"
   ]
  },
  {
   "cell_type": "code",
   "execution_count": 23,
   "metadata": {},
   "outputs": [
    {
     "name": "stdout",
     "output_type": "stream",
     "text": [
      "retrieval and engineering for immigration data processing. I earned Home Oﬃce's Performance\n",
      "Excellence Award for this work. \n",
      "Advanced to Senior Data Scientist within 12 months, assuming full r\n"
     ]
    }
   ],
   "source": [
    "print(all_splits[1].page_content[:192]) # see page content"
   ]
  },
  {
   "cell_type": "code",
   "execution_count": 24,
   "metadata": {},
   "outputs": [
    {
     "data": {
      "text/plain": [
       "{'source': 'example_documents/resume.pdf', 'page': 0, 'start_index': 813}"
      ]
     },
     "execution_count": 24,
     "metadata": {},
     "output_type": "execute_result"
    }
   ],
   "source": [
    "all_splits[1].metadata # see metadata associated with text chunk"
   ]
  },
  {
   "cell_type": "markdown",
   "metadata": {},
   "source": [
    "### Store\n",
    "\n",
    "We will embed our text chunks using an embedding model from HuggingFace and we will store these embeddings using FAISS."
   ]
  },
  {
   "cell_type": "code",
   "execution_count": 25,
   "metadata": {},
   "outputs": [],
   "source": [
    "from langchain_community.embeddings import HuggingFaceInferenceAPIEmbeddings\n",
    "\n",
    "# the embeddings model wants the API explicitly for some reason\n",
    "load_dotenv()\n",
    "hf_key = os.getenv('HUGGINGFACEHUB_API_TOKEN')\n",
    "\n",
    "embeddings_model = HuggingFaceInferenceAPIEmbeddings(\n",
    "    api_key=hf_key, model_name=\"sentence-transformers/all-MiniLM-l6-v2\"\n",
    ")\n",
    "\n",
    "from langchain_community.vectorstores import FAISS\n",
    "\n",
    "vector_store = FAISS.from_documents(documents=all_splits, embedding=embeddings_model)"
   ]
  },
  {
   "cell_type": "markdown",
   "metadata": {},
   "source": [
    "### Retrieval \n",
    "\n",
    "This can be achieved simply using the similarity search method."
   ]
  },
  {
   "cell_type": "code",
   "execution_count": 26,
   "metadata": {},
   "outputs": [
    {
     "name": "stdout",
     "output_type": "stream",
     "text": [
      "Page 1 of 2 \n",
      "Daniel Suarez-Mash \n",
      "Senior Data Scientist at UK Home Oﬃce \n",
      "daniel.suarez.mash@gmail.co\n",
      "m \n",
      "07930262794 \n",
      "Solihull, United Kingdom \n",
      "huggingface.co/amateurish-\n",
      "coder \n",
      "linkedin.com/in/daniel-\n",
      "suarez-mash-05356511b \n",
      "github.com/amateurish-\n",
      "coder \n",
      "SKILLS \n",
      "Python \n",
      "TensorFlow \n",
      "Pytorch \n",
      "PowerBI \n",
      "SQL \n",
      "Jupyter \n",
      "PyCharm \n",
      "Git \n",
      "Command Line Interface \n",
      "AWS \n",
      "LANGUAGES \n",
      "Spanish \n",
      "Native or Bilingual Proﬁciency \n",
      "German \n",
      "Elementary Proﬁciency \n",
      "INTERESTS \n",
      "Data Science \n",
      "Cars \n",
      "Squash \n",
      "Tennis \n",
      "WORK EXPERIENCE \n",
      "Senior Data Scientist \n",
      "UK Home Oﬃce \n",
      "12/2021 - Present\n",
      ", \n",
      " \n",
      "Enhanced core data science skillset by completing the ONS Data Science Graduate Programme\n",
      "(2021-2023), focusing on advanced machine learning techniques. \n",
      "Spearheaded a 6-month project to develop a reproducible analytical pipeline, optimising feature\n",
      "retrieval and engineering for immigration data processing. I earned Home Oﬃce's Performance\n",
      "Excellence Award for this work.\n"
     ]
    }
   ],
   "source": [
    "print(vector_store.similarity_search(\"What Python experience does Daniel have?\", k=1)[0].page_content)"
   ]
  },
  {
   "cell_type": "markdown",
   "metadata": {},
   "source": [
    "### Generation\n",
    "\n",
    "Let's define a prompt for RAG"
   ]
  },
  {
   "cell_type": "code",
   "execution_count": 27,
   "metadata": {},
   "outputs": [
    {
     "name": "stdout",
     "output_type": "stream",
     "text": [
      "The token has not been saved to the git credentials helper. Pass `add_to_git_credential=True` in this function directly or `--add-to-git-credential` if using via `huggingface-cli` if you want to set the git credential as well.\n",
      "Token is valid (permission: read).\n",
      "Your token has been saved to /Users/danielsuarez-mash/.cache/huggingface/token\n",
      "Login successful\n",
      " \n",
      "\n",
      "Answer: \n",
      "\n",
      "Based on the CV, Daniel's strengths are: \n",
      "\n",
      "1. **Data Science skills**: Daniel has a strong background in data science, with experience in machine learning, natural language processing, and data visualization. He has also worked on several projects, showcasing his ability to develop reproducible analytical pipelines and optimize feature retrieval and engineering.\n",
      "2. **Leadership skills**: Daniel has demonstrated leadership skills, having led a team to explore the use of large language models within the Home Oﬃce and overseeing learning and development initiatives within the data science team.\n",
      "3. **Communication skills**: Daniel has highlighted his ability to effectively communicate complex concepts to non-technical stakeholders, which is an essential skill for a data scientist.\n",
      "4. **Adaptability and flexibility**: Daniel has shown flexibility in his teaching style as a private mathematics tutor, adapting to different learning preferences and students with learning disabilities.\n",
      "5. **Academic achievements**: Daniel has a strong academic background, with a distinction and best student award for his MSc, and a 1st class degree in Mathematics with Finance and Economics.\n",
      "6. **Project management**: Daniel has managed several projects, including developing a reproducible analytical pipeline and leading a team to explore the use of large language models.\n",
      "7. **Language skills**: Daniel is fluent in Spanish and has a basic understanding of German, which could be beneficial in a globalized work environment. \n",
      "\n",
      "Overall, Daniel's CV showcases a strong combination of technical skills, leadership abilities, and adaptability, making him a competitive candidate in the data science field.\n"
     ]
    }
   ],
   "source": [
    "from langchain_huggingface import HuggingFaceEndpoint, ChatHuggingFace\n",
    "from langchain_core.prompts import PromptTemplate, ChatPromptTemplate, MessagesPlaceholder\n",
    "from langchain_core.runnables import RunnablePassthrough\n",
    "\n",
    "# ----- PROMPT\n",
    "template = (\n",
    "    \"You are a helpful AI assistant specialised in reading CVs. Your job is to assist the user in understanding the CV in question. \"\n",
    "    \"When asked to, you may also provide advice on how to improve the CV in any way you see fit. \"\n",
    "    \"Below are chunks of the CV which are relevant to the question at the end.\\n\\n\"\n",
    "    \"Context: \\n\\n{context} \\n\\n\"\n",
    "    \"Question: {question}\"\n",
    ")\n",
    "prompt = PromptTemplate(template=template, input_variables=[\"context\", \"question\"])\n",
    "\n",
    "# ----- RETRIEVER\n",
    "retriever = vector_store.as_retriever()\n",
    "\n",
    "# ----- LLM\n",
    "llm = HuggingFaceEndpoint(\n",
    "    repo_id=\"meta-llama/Meta-Llama-3-8B-Instruct\",\n",
    "    max_new_tokens=1000\n",
    ")\n",
    "\n",
    "def format_docs(docs):\n",
    "    # Ensure the docs have a page_content attribute\n",
    "    return \"\\n\\n\".join(doc.page_content for doc in docs)\n",
    "\n",
    "rag_chain = ({\"context\" : retriever | format_docs, \"question\" : RunnablePassthrough()}\n",
    "            | prompt\n",
    "            | llm\n",
    ")\n",
    "\n",
    "print(rag_chain.invoke(\"What are Daniel's strengths in this CV?\"))\n"
   ]
  }
 ],
 "metadata": {
  "kernelspec": {
   "display_name": "llm_env",
   "language": "python",
   "name": "python3"
  },
  "language_info": {
   "codemirror_mode": {
    "name": "ipython",
    "version": 3
   },
   "file_extension": ".py",
   "mimetype": "text/x-python",
   "name": "python",
   "nbconvert_exporter": "python",
   "pygments_lexer": "ipython3",
   "version": "3.12.6"
  }
 },
 "nbformat": 4,
 "nbformat_minor": 2
}
